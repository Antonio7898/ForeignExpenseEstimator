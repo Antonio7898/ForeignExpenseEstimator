{
  "nbformat": 4,
  "nbformat_minor": 0,
  "metadata": {
    "colab": {
      "name": "Gary_FE.ipynb",
      "provenance": [],
      "collapsed_sections": []
    },
    "kernelspec": {
      "name": "python3",
      "display_name": "Python 3"
    }
  },
  "cells": [
    {
      "cell_type": "code",
      "metadata": {
        "id": "ns6niS34-JD5",
        "colab_type": "code",
        "colab": {}
      },
      "source": [
        "import pandas as pd"
      ],
      "execution_count": null,
      "outputs": []
    },
    {
      "cell_type": "code",
      "metadata": {
        "id": "e5wkLWqq-cPm",
        "colab_type": "code",
        "colab": {}
      },
      "source": [
        "import numpy as np\n"
      ],
      "execution_count": null,
      "outputs": []
    },
    {
      "cell_type": "code",
      "metadata": {
        "id": "rfovX7T5-mDq",
        "colab_type": "code",
        "colab": {}
      },
      "source": [
        "import matplotlib.pyplot as plt\n"
      ],
      "execution_count": null,
      "outputs": []
    },
    {
      "cell_type": "code",
      "metadata": {
        "id": "tP5ktNJu-oRK",
        "colab_type": "code",
        "colab": {
          "base_uri": "https://localhost:8080/",
          "height": 71
        },
        "outputId": "22b951d3-05d4-4233-d490-6e9a7b3096ac"
      },
      "source": [
        "import seaborn as sns"
      ],
      "execution_count": null,
      "outputs": [
        {
          "output_type": "stream",
          "text": [
            "/usr/local/lib/python3.6/dist-packages/statsmodels/tools/_testing.py:19: FutureWarning: pandas.util.testing is deprecated. Use the functions in the public API at pandas.testing instead.\n",
            "  import pandas.util.testing as tm\n"
          ],
          "name": "stderr"
        }
      ]
    },
    {
      "cell_type": "code",
      "metadata": {
        "id": "FMxbl9eL-qu6",
        "colab_type": "code",
        "colab": {}
      },
      "source": [
        "from google.colab import files"
      ],
      "execution_count": null,
      "outputs": []
    },
    {
      "cell_type": "code",
      "metadata": {
        "id": "eBz0j5yi-0bp",
        "colab_type": "code",
        "colab": {
          "resources": {
            "http://localhost:8080/nbextensions/google.colab/files.js": {
              "data": "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",
              "ok": true,
              "headers": [
                [
                  "content-type",
                  "application/javascript"
                ]
              ],
              "status": 200,
              "status_text": ""
            }
          },
          "base_uri": "https://localhost:8080/",
          "height": 72
        },
        "outputId": "bd45e010-b6cb-45d8-fc9d-1fe1140e5086"
      },
      "source": [
        "upd = files.upload()"
      ],
      "execution_count": null,
      "outputs": [
        {
          "output_type": "display_data",
          "data": {
            "text/html": [
              "\n",
              "     <input type=\"file\" id=\"files-eae631fa-3c7c-4aa7-88f6-ce7f3240b627\" name=\"files[]\" multiple disabled\n",
              "        style=\"border:none\" />\n",
              "     <output id=\"result-eae631fa-3c7c-4aa7-88f6-ce7f3240b627\">\n",
              "      Upload widget is only available when the cell has been executed in the\n",
              "      current browser session. Please rerun this cell to enable.\n",
              "      </output>\n",
              "      <script src=\"/nbextensions/google.colab/files.js\"></script> "
            ],
            "text/plain": [
              "<IPython.core.display.HTML object>"
            ]
          },
          "metadata": {
            "tags": []
          }
        },
        {
          "output_type": "stream",
          "text": [
            "Saving German Foreign expenses.xlsx to German Foreign expenses.xlsx\n"
          ],
          "name": "stdout"
        }
      ]
    },
    {
      "cell_type": "code",
      "metadata": {
        "id": "r_ClmY3k-4CS",
        "colab_type": "code",
        "colab": {}
      },
      "source": [
        "import io\n",
        "dt = io.BytesIO(upd['German Foreign expenses.xlsx'])\n",
        "df = pd.read_excel(dt,sheet_name='Sheet1')"
      ],
      "execution_count": null,
      "outputs": []
    },
    {
      "cell_type": "code",
      "metadata": {
        "id": "bKMWj1J5_USB",
        "colab_type": "code",
        "colab": {
          "base_uri": "https://localhost:8080/",
          "height": 221
        },
        "outputId": "91393e18-29ea-42fe-f18d-9761e8d5f092"
      },
      "source": [
        "df.head()"
      ],
      "execution_count": null,
      "outputs": [
        {
          "output_type": "execute_result",
          "data": {
            "text/html": [
              "<div>\n",
              "<style scoped>\n",
              "    .dataframe tbody tr th:only-of-type {\n",
              "        vertical-align: middle;\n",
              "    }\n",
              "\n",
              "    .dataframe tbody tr th {\n",
              "        vertical-align: top;\n",
              "    }\n",
              "\n",
              "    .dataframe thead th {\n",
              "        text-align: right;\n",
              "    }\n",
              "</style>\n",
              "<table border=\"1\" class=\"dataframe\">\n",
              "  <thead>\n",
              "    <tr style=\"text-align: right;\">\n",
              "      <th></th>\n",
              "      <th>Hostel(0 or 1)</th>\n",
              "      <th>Room(0 or 1)</th>\n",
              "      <th>Living Expense</th>\n",
              "      <th>Veg (0 or 1)</th>\n",
              "      <th>Non Veg(0 or 1)</th>\n",
              "      <th>Food Expense</th>\n",
              "      <th>Transport Expense</th>\n",
              "      <th>Personal Expense</th>\n",
              "      <th>Entertainment Expense</th>\n",
              "      <th>HealthCare Expense</th>\n",
              "    </tr>\n",
              "  </thead>\n",
              "  <tbody>\n",
              "    <tr>\n",
              "      <th>0</th>\n",
              "      <td>0</td>\n",
              "      <td>1</td>\n",
              "      <td>326.05</td>\n",
              "      <td>1</td>\n",
              "      <td>0</td>\n",
              "      <td>47.58</td>\n",
              "      <td>97.13</td>\n",
              "      <td>23.69</td>\n",
              "      <td>48.57</td>\n",
              "      <td>100.69</td>\n",
              "    </tr>\n",
              "    <tr>\n",
              "      <th>1</th>\n",
              "      <td>0</td>\n",
              "      <td>1</td>\n",
              "      <td>330.05</td>\n",
              "      <td>0</td>\n",
              "      <td>1</td>\n",
              "      <td>61.02</td>\n",
              "      <td>94.32</td>\n",
              "      <td>24.65</td>\n",
              "      <td>49.25</td>\n",
              "      <td>98.32</td>\n",
              "    </tr>\n",
              "    <tr>\n",
              "      <th>2</th>\n",
              "      <td>1</td>\n",
              "      <td>0</td>\n",
              "      <td>379.59</td>\n",
              "      <td>1</td>\n",
              "      <td>0</td>\n",
              "      <td>112.97</td>\n",
              "      <td>55.40</td>\n",
              "      <td>25.89</td>\n",
              "      <td>47.52</td>\n",
              "      <td>99.65</td>\n",
              "    </tr>\n",
              "    <tr>\n",
              "      <th>3</th>\n",
              "      <td>1</td>\n",
              "      <td>0</td>\n",
              "      <td>382.11</td>\n",
              "      <td>0</td>\n",
              "      <td>1</td>\n",
              "      <td>109.32</td>\n",
              "      <td>52.31</td>\n",
              "      <td>22.32</td>\n",
              "      <td>46.32</td>\n",
              "      <td>96.23</td>\n",
              "    </tr>\n",
              "    <tr>\n",
              "      <th>4</th>\n",
              "      <td>0</td>\n",
              "      <td>1</td>\n",
              "      <td>402.91</td>\n",
              "      <td>1</td>\n",
              "      <td>0</td>\n",
              "      <td>43.59</td>\n",
              "      <td>90.95</td>\n",
              "      <td>26.59</td>\n",
              "      <td>28.44</td>\n",
              "      <td>109.36</td>\n",
              "    </tr>\n",
              "  </tbody>\n",
              "</table>\n",
              "</div>"
            ],
            "text/plain": [
              "   Hostel(0 or 1)  Room(0 or 1)  ...  Entertainment Expense  HealthCare Expense\n",
              "0               0             1  ...                  48.57              100.69\n",
              "1               0             1  ...                  49.25               98.32\n",
              "2               1             0  ...                  47.52               99.65\n",
              "3               1             0  ...                  46.32               96.23\n",
              "4               0             1  ...                  28.44              109.36\n",
              "\n",
              "[5 rows x 10 columns]"
            ]
          },
          "metadata": {
            "tags": []
          },
          "execution_count": 9
        }
      ]
    },
    {
      "cell_type": "code",
      "metadata": {
        "id": "ORQ2VJ5j_a1f",
        "colab_type": "code",
        "colab": {
          "base_uri": "https://localhost:8080/",
          "height": 204
        },
        "outputId": "c83f4e72-da4e-4b8a-df28-1b11b2d12539"
      },
      "source": [
        "df.isnull().sum()"
      ],
      "execution_count": null,
      "outputs": [
        {
          "output_type": "execute_result",
          "data": {
            "text/plain": [
              "Hostel(0 or 1)           0\n",
              "Room(0 or 1)             0\n",
              "Living Expense           0\n",
              "Veg (0 or 1)             0\n",
              "Non Veg(0 or 1)          0\n",
              "Food Expense             0\n",
              "Transport Expense        0\n",
              "Personal Expense         0\n",
              "Entertainment Expense    0\n",
              "HealthCare Expense       0\n",
              "dtype: int64"
            ]
          },
          "metadata": {
            "tags": []
          },
          "execution_count": 10
        }
      ]
    },
    {
      "cell_type": "code",
      "metadata": {
        "id": "aAvefdOf_g0q",
        "colab_type": "code",
        "colab": {
          "base_uri": "https://localhost:8080/",
          "height": 359
        },
        "outputId": "dfe938bd-d7d3-4b19-e11d-f7432d215331"
      },
      "source": [
        "df.describe().transpose()"
      ],
      "execution_count": null,
      "outputs": [
        {
          "output_type": "execute_result",
          "data": {
            "text/html": [
              "<div>\n",
              "<style scoped>\n",
              "    .dataframe tbody tr th:only-of-type {\n",
              "        vertical-align: middle;\n",
              "    }\n",
              "\n",
              "    .dataframe tbody tr th {\n",
              "        vertical-align: top;\n",
              "    }\n",
              "\n",
              "    .dataframe thead th {\n",
              "        text-align: right;\n",
              "    }\n",
              "</style>\n",
              "<table border=\"1\" class=\"dataframe\">\n",
              "  <thead>\n",
              "    <tr style=\"text-align: right;\">\n",
              "      <th></th>\n",
              "      <th>count</th>\n",
              "      <th>mean</th>\n",
              "      <th>std</th>\n",
              "      <th>min</th>\n",
              "      <th>25%</th>\n",
              "      <th>50%</th>\n",
              "      <th>75%</th>\n",
              "      <th>max</th>\n",
              "    </tr>\n",
              "  </thead>\n",
              "  <tbody>\n",
              "    <tr>\n",
              "      <th>Hostel(0 or 1)</th>\n",
              "      <td>8.0</td>\n",
              "      <td>0.50000</td>\n",
              "      <td>0.534522</td>\n",
              "      <td>0.00</td>\n",
              "      <td>0.0000</td>\n",
              "      <td>0.500</td>\n",
              "      <td>1.0000</td>\n",
              "      <td>1.00</td>\n",
              "    </tr>\n",
              "    <tr>\n",
              "      <th>Room(0 or 1)</th>\n",
              "      <td>8.0</td>\n",
              "      <td>0.50000</td>\n",
              "      <td>0.534522</td>\n",
              "      <td>0.00</td>\n",
              "      <td>0.0000</td>\n",
              "      <td>0.500</td>\n",
              "      <td>1.0000</td>\n",
              "      <td>1.00</td>\n",
              "    </tr>\n",
              "    <tr>\n",
              "      <th>Living Expense</th>\n",
              "      <td>8.0</td>\n",
              "      <td>372.55500</td>\n",
              "      <td>28.877703</td>\n",
              "      <td>326.05</td>\n",
              "      <td>367.2050</td>\n",
              "      <td>380.605</td>\n",
              "      <td>386.2125</td>\n",
              "      <td>402.91</td>\n",
              "    </tr>\n",
              "    <tr>\n",
              "      <th>Veg (0 or 1)</th>\n",
              "      <td>8.0</td>\n",
              "      <td>0.50000</td>\n",
              "      <td>0.534522</td>\n",
              "      <td>0.00</td>\n",
              "      <td>0.0000</td>\n",
              "      <td>0.500</td>\n",
              "      <td>1.0000</td>\n",
              "      <td>1.00</td>\n",
              "    </tr>\n",
              "    <tr>\n",
              "      <th>Non Veg(0 or 1)</th>\n",
              "      <td>8.0</td>\n",
              "      <td>0.50000</td>\n",
              "      <td>0.534522</td>\n",
              "      <td>0.00</td>\n",
              "      <td>0.0000</td>\n",
              "      <td>0.500</td>\n",
              "      <td>1.0000</td>\n",
              "      <td>1.00</td>\n",
              "    </tr>\n",
              "    <tr>\n",
              "      <th>Food Expense</th>\n",
              "      <td>8.0</td>\n",
              "      <td>80.99125</td>\n",
              "      <td>31.231321</td>\n",
              "      <td>43.59</td>\n",
              "      <td>54.5325</td>\n",
              "      <td>83.325</td>\n",
              "      <td>109.7325</td>\n",
              "      <td>112.97</td>\n",
              "    </tr>\n",
              "    <tr>\n",
              "      <th>Transport Expense</th>\n",
              "      <td>8.0</td>\n",
              "      <td>66.39375</td>\n",
              "      <td>29.884079</td>\n",
              "      <td>26.07</td>\n",
              "      <td>46.0625</td>\n",
              "      <td>71.525</td>\n",
              "      <td>91.7925</td>\n",
              "      <td>97.13</td>\n",
              "    </tr>\n",
              "    <tr>\n",
              "      <th>Personal Expense</th>\n",
              "      <td>8.0</td>\n",
              "      <td>24.15875</td>\n",
              "      <td>2.469762</td>\n",
              "      <td>20.32</td>\n",
              "      <td>22.3025</td>\n",
              "      <td>24.170</td>\n",
              "      <td>26.0650</td>\n",
              "      <td>27.56</td>\n",
              "    </tr>\n",
              "    <tr>\n",
              "      <th>Entertainment Expense</th>\n",
              "      <td>8.0</td>\n",
              "      <td>38.90000</td>\n",
              "      <td>9.703767</td>\n",
              "      <td>28.44</td>\n",
              "      <td>30.0950</td>\n",
              "      <td>38.770</td>\n",
              "      <td>47.7825</td>\n",
              "      <td>49.25</td>\n",
              "    </tr>\n",
              "    <tr>\n",
              "      <th>HealthCare Expense</th>\n",
              "      <td>8.0</td>\n",
              "      <td>103.73750</td>\n",
              "      <td>5.586529</td>\n",
              "      <td>96.23</td>\n",
              "      <td>99.3175</td>\n",
              "      <td>103.830</td>\n",
              "      <td>108.6100</td>\n",
              "      <td>110.32</td>\n",
              "    </tr>\n",
              "  </tbody>\n",
              "</table>\n",
              "</div>"
            ],
            "text/plain": [
              "                       count       mean        std  ...      50%       75%     max\n",
              "Hostel(0 or 1)           8.0    0.50000   0.534522  ...    0.500    1.0000    1.00\n",
              "Room(0 or 1)             8.0    0.50000   0.534522  ...    0.500    1.0000    1.00\n",
              "Living Expense           8.0  372.55500  28.877703  ...  380.605  386.2125  402.91\n",
              "Veg (0 or 1)             8.0    0.50000   0.534522  ...    0.500    1.0000    1.00\n",
              "Non Veg(0 or 1)          8.0    0.50000   0.534522  ...    0.500    1.0000    1.00\n",
              "Food Expense             8.0   80.99125  31.231321  ...   83.325  109.7325  112.97\n",
              "Transport Expense        8.0   66.39375  29.884079  ...   71.525   91.7925   97.13\n",
              "Personal Expense         8.0   24.15875   2.469762  ...   24.170   26.0650   27.56\n",
              "Entertainment Expense    8.0   38.90000   9.703767  ...   38.770   47.7825   49.25\n",
              "HealthCare Expense       8.0  103.73750   5.586529  ...  103.830  108.6100  110.32\n",
              "\n",
              "[10 rows x 8 columns]"
            ]
          },
          "metadata": {
            "tags": []
          },
          "execution_count": 11
        }
      ]
    },
    {
      "cell_type": "code",
      "metadata": {
        "id": "JNIMnkSE_nrX",
        "colab_type": "code",
        "colab": {}
      },
      "source": [
        "df['TE'] = df['Entertainment Expense'] + df['Food Expense'] + df['HealthCare Expense'] + df['Living Expense'] + df['Transport Expense'] + df['Personal Expense']"
      ],
      "execution_count": null,
      "outputs": []
    },
    {
      "cell_type": "code",
      "metadata": {
        "id": "V8PXB5zfACKn",
        "colab_type": "code",
        "colab": {
          "base_uri": "https://localhost:8080/",
          "height": 296
        },
        "outputId": "f5929673-26b0-4e59-89d0-fe7bc766a0e2"
      },
      "source": [
        "sns.distplot(df['TE'],bins=20)"
      ],
      "execution_count": null,
      "outputs": [
        {
          "output_type": "execute_result",
          "data": {
            "text/plain": [
              "<matplotlib.axes._subplots.AxesSubplot at 0x7fe7a664fbe0>"
            ]
          },
          "metadata": {
            "tags": []
          },
          "execution_count": 13
        },
        {
          "output_type": "display_data",
          "data": {
            "image/png": "[encoded data removed]",
            "text/plain": [
              "<Figure size 432x288 with 1 Axes>"
            ]
          },
          "metadata": {
            "tags": [],
            "needs_background": "light"
          }
        }
      ]
    },
    {
      "cell_type": "code",
      "metadata": {
        "id": "-Vfiz5VfBaal",
        "colab_type": "code",
        "colab": {
          "base_uri": "https://localhost:8080/",
          "height": 221
        },
        "outputId": "af5f4fd8-e93e-4411-d55d-31b50332026e"
      },
      "source": [
        "df.corr()['TE']"
      ],
      "execution_count": null,
      "outputs": [
        {
          "output_type": "execute_result",
          "data": {
            "text/plain": [
              "Hostel(0 or 1)           0.428822\n",
              "Room(0 or 1)            -0.428822\n",
              "Living Expense           0.824718\n",
              "Veg (0 or 1)             0.020252\n",
              "Non Veg(0 or 1)         -0.020252\n",
              "Food Expense             0.424776\n",
              "Transport Expense       -0.288860\n",
              "Personal Expense         0.019053\n",
              "Entertainment Expense   -0.244063\n",
              "HealthCare Expense       0.059280\n",
              "TE                       1.000000\n",
              "Name: TE, dtype: float64"
            ]
          },
          "metadata": {
            "tags": []
          },
          "execution_count": 14
        }
      ]
    },
    {
      "cell_type": "code",
      "metadata": {
        "id": "-H-U0nvnB0eF",
        "colab_type": "code",
        "colab": {
          "base_uri": "https://localhost:8080/",
          "height": 296
        },
        "outputId": "93d2ece6-a313-4384-e1a1-02628521837e"
      },
      "source": [
        "sns.boxplot(x='Veg (0 or 1)',y='Food Expense',data=df)"
      ],
      "execution_count": null,
      "outputs": [
        {
          "output_type": "execute_result",
          "data": {
            "text/plain": [
              "<matplotlib.axes._subplots.AxesSubplot at 0x7fe7a6639b38>"
            ]
          },
          "metadata": {
            "tags": []
          },
          "execution_count": 15
        },
        {
          "output_type": "display_data",
          "data": {
            "image/png": "[encoded data removed]",
            "text/plain": [
              "<Figure size 432x288 with 1 Axes>"
            ]
          },
          "metadata": {
            "tags": [],
            "needs_background": "light"
          }
        }
      ]
    },
    {
      "cell_type": "code",
      "metadata": {
        "id": "2R43bgmrDI3k",
        "colab_type": "code",
        "colab": {
          "base_uri": "https://localhost:8080/",
          "height": 296
        },
        "outputId": "67dd56cd-f086-4ee5-f615-f68d9db2a300"
      },
      "source": [
        "sns.boxplot(x='Hostel(0 or 1)',y='TE',data=df)"
      ],
      "execution_count": null,
      "outputs": [
        {
          "output_type": "execute_result",
          "data": {
            "text/plain": [
              "<matplotlib.axes._subplots.AxesSubplot at 0x7fe7a4e070b8>"
            ]
          },
          "metadata": {
            "tags": []
          },
          "execution_count": 16
        },
        {
          "output_type": "display_data",
          "data": {
            "image/png": "[encoded data removed]",
            "text/plain": [
              "<Figure size 432x288 with 1 Axes>"
            ]
          },
          "metadata": {
            "tags": [],
            "needs_background": "light"
          }
        }
      ]
    },
    {
      "cell_type": "code",
      "metadata": {
        "id": "MHuDwBF5DgpV",
        "colab_type": "code",
        "colab": {
          "base_uri": "https://localhost:8080/",
          "height": 314
        },
        "outputId": "2fe563ee-5863-48f3-cc22-2497439846d0"
      },
      "source": [
        "df.sort_values('TE',ascending=False)"
      ],
      "execution_count": null,
      "outputs": [
        {
          "output_type": "execute_result",
          "data": {
            "text/html": [
              "<div>\n",
              "<style scoped>\n",
              "    .dataframe tbody tr th:only-of-type {\n",
              "        vertical-align: middle;\n",
              "    }\n",
              "\n",
              "    .dataframe tbody tr th {\n",
              "        vertical-align: top;\n",
              "    }\n",
              "\n",
              "    .dataframe thead th {\n",
              "        text-align: right;\n",
              "    }\n",
              "</style>\n",
              "<table border=\"1\" class=\"dataframe\">\n",
              "  <thead>\n",
              "    <tr style=\"text-align: right;\">\n",
              "      <th></th>\n",
              "      <th>Hostel(0 or 1)</th>\n",
              "      <th>Room(0 or 1)</th>\n",
              "      <th>Living Expense</th>\n",
              "      <th>Veg (0 or 1)</th>\n",
              "      <th>Non Veg(0 or 1)</th>\n",
              "      <th>Food Expense</th>\n",
              "      <th>Transport Expense</th>\n",
              "      <th>Personal Expense</th>\n",
              "      <th>Entertainment Expense</th>\n",
              "      <th>HealthCare Expense</th>\n",
              "      <th>TE</th>\n",
              "    </tr>\n",
              "  </thead>\n",
              "  <tbody>\n",
              "    <tr>\n",
              "      <th>2</th>\n",
              "      <td>1</td>\n",
              "      <td>0</td>\n",
              "      <td>379.59</td>\n",
              "      <td>1</td>\n",
              "      <td>0</td>\n",
              "      <td>112.97</td>\n",
              "      <td>55.40</td>\n",
              "      <td>25.89</td>\n",
              "      <td>47.52</td>\n",
              "      <td>99.65</td>\n",
              "      <td>721.02</td>\n",
              "    </tr>\n",
              "    <tr>\n",
              "      <th>3</th>\n",
              "      <td>1</td>\n",
              "      <td>0</td>\n",
              "      <td>382.11</td>\n",
              "      <td>0</td>\n",
              "      <td>1</td>\n",
              "      <td>109.32</td>\n",
              "      <td>52.31</td>\n",
              "      <td>22.32</td>\n",
              "      <td>46.32</td>\n",
              "      <td>96.23</td>\n",
              "      <td>708.61</td>\n",
              "    </tr>\n",
              "    <tr>\n",
              "      <th>4</th>\n",
              "      <td>0</td>\n",
              "      <td>1</td>\n",
              "      <td>402.91</td>\n",
              "      <td>1</td>\n",
              "      <td>0</td>\n",
              "      <td>43.59</td>\n",
              "      <td>90.95</td>\n",
              "      <td>26.59</td>\n",
              "      <td>28.44</td>\n",
              "      <td>109.36</td>\n",
              "      <td>701.84</td>\n",
              "    </tr>\n",
              "    <tr>\n",
              "      <th>5</th>\n",
              "      <td>0</td>\n",
              "      <td>1</td>\n",
              "      <td>398.52</td>\n",
              "      <td>0</td>\n",
              "      <td>1</td>\n",
              "      <td>56.85</td>\n",
              "      <td>87.65</td>\n",
              "      <td>20.32</td>\n",
              "      <td>29.63</td>\n",
              "      <td>108.36</td>\n",
              "      <td>701.33</td>\n",
              "    </tr>\n",
              "    <tr>\n",
              "      <th>6</th>\n",
              "      <td>1</td>\n",
              "      <td>0</td>\n",
              "      <td>379.59</td>\n",
              "      <td>1</td>\n",
              "      <td>0</td>\n",
              "      <td>110.97</td>\n",
              "      <td>26.07</td>\n",
              "      <td>27.56</td>\n",
              "      <td>31.22</td>\n",
              "      <td>106.97</td>\n",
              "      <td>682.38</td>\n",
              "    </tr>\n",
              "    <tr>\n",
              "      <th>7</th>\n",
              "      <td>1</td>\n",
              "      <td>0</td>\n",
              "      <td>381.62</td>\n",
              "      <td>0</td>\n",
              "      <td>1</td>\n",
              "      <td>105.63</td>\n",
              "      <td>27.32</td>\n",
              "      <td>22.25</td>\n",
              "      <td>30.25</td>\n",
              "      <td>110.32</td>\n",
              "      <td>677.39</td>\n",
              "    </tr>\n",
              "    <tr>\n",
              "      <th>1</th>\n",
              "      <td>0</td>\n",
              "      <td>1</td>\n",
              "      <td>330.05</td>\n",
              "      <td>0</td>\n",
              "      <td>1</td>\n",
              "      <td>61.02</td>\n",
              "      <td>94.32</td>\n",
              "      <td>24.65</td>\n",
              "      <td>49.25</td>\n",
              "      <td>98.32</td>\n",
              "      <td>657.61</td>\n",
              "    </tr>\n",
              "    <tr>\n",
              "      <th>0</th>\n",
              "      <td>0</td>\n",
              "      <td>1</td>\n",
              "      <td>326.05</td>\n",
              "      <td>1</td>\n",
              "      <td>0</td>\n",
              "      <td>47.58</td>\n",
              "      <td>97.13</td>\n",
              "      <td>23.69</td>\n",
              "      <td>48.57</td>\n",
              "      <td>100.69</td>\n",
              "      <td>643.71</td>\n",
              "    </tr>\n",
              "  </tbody>\n",
              "</table>\n",
              "</div>"
            ],
            "text/plain": [
              "   Hostel(0 or 1)  Room(0 or 1)  ...  HealthCare Expense      TE\n",
              "2               1             0  ...               99.65  721.02\n",
              "3               1             0  ...               96.23  708.61\n",
              "4               0             1  ...              109.36  701.84\n",
              "5               0             1  ...              108.36  701.33\n",
              "6               1             0  ...              106.97  682.38\n",
              "7               1             0  ...              110.32  677.39\n",
              "1               0             1  ...               98.32  657.61\n",
              "0               0             1  ...              100.69  643.71\n",
              "\n",
              "[8 rows x 11 columns]"
            ]
          },
          "metadata": {
            "tags": []
          },
          "execution_count": 17
        }
      ]
    },
    {
      "cell_type": "code",
      "metadata": {
        "id": "HsgQd7a4DB5e",
        "colab_type": "code",
        "colab": {
          "base_uri": "https://localhost:8080/",
          "height": 85
        },
        "outputId": "169d945a-0c38-45d2-c4b8-5d5880767bf8"
      },
      "source": [
        "df.groupby('Hostel(0 or 1)').mean()['TE']"
      ],
      "execution_count": null,
      "outputs": [
        {
          "output_type": "execute_result",
          "data": {
            "text/plain": [
              "Hostel(0 or 1)\n",
              "0    676.1225\n",
              "1    697.3500\n",
              "Name: TE, dtype: float64"
            ]
          },
          "metadata": {
            "tags": []
          },
          "execution_count": 18
        }
      ]
    },
    {
      "cell_type": "code",
      "metadata": {
        "id": "OYIG9ZDXZXoi",
        "colab_type": "code",
        "colab": {
          "base_uri": "https://localhost:8080/",
          "height": 102
        },
        "outputId": "72cf7820-d9b7-4b59-f01d-8283078f0376"
      },
      "source": [
        "df.columns"
      ],
      "execution_count": null,
      "outputs": [
        {
          "output_type": "execute_result",
          "data": {
            "text/plain": [
              "Index(['Hostel(0 or 1)', 'Room(0 or 1)', 'Living Expense', 'Veg (0 or 1)',\n",
              "       'Non Veg(0 or 1)', 'Food Expense', 'Transport Expense',\n",
              "       'Personal Expense', 'Entertainment Expense', 'HealthCare Expense',\n",
              "       'TE'],\n",
              "      dtype='object')"
            ]
          },
          "metadata": {
            "tags": []
          },
          "execution_count": 19
        }
      ]
    },
    {
      "cell_type": "code",
      "metadata": {
        "id": "eDRXt3GJCuNX",
        "colab_type": "code",
        "colab": {}
      },
      "source": [
        "x = df.drop('TE',axis=1).values\n",
        "y = df['TE'].values"
      ],
      "execution_count": null,
      "outputs": []
    },
    {
      "cell_type": "code",
      "metadata": {
        "id": "M17jcPW_dUaP",
        "colab_type": "code",
        "colab": {}
      },
      "source": [
        "from sklearn.model_selection import train_test_split"
      ],
      "execution_count": null,
      "outputs": []
    },
    {
      "cell_type": "code",
      "metadata": {
        "id": "UEux11zNa9u7",
        "colab_type": "code",
        "colab": {}
      },
      "source": [
        "X_train,X_test,Y_train,Y_test = train_test_split(x,y,test_size=0.3,random_state=20)"
      ],
      "execution_count": null,
      "outputs": []
    },
    {
      "cell_type": "code",
      "metadata": {
        "id": "a8GPxQc9euOT",
        "colab_type": "code",
        "colab": {}
      },
      "source": [
        "from sklearn.preprocessing import MinMaxScaler"
      ],
      "execution_count": null,
      "outputs": []
    },
    {
      "cell_type": "code",
      "metadata": {
        "id": "H9oGiDaxgGJ3",
        "colab_type": "code",
        "colab": {}
      },
      "source": [
        "scl = MinMaxScaler()"
      ],
      "execution_count": null,
      "outputs": []
    },
    {
      "cell_type": "code",
      "metadata": {
        "id": "wyl4iFcTgIlf",
        "colab_type": "code",
        "colab": {}
      },
      "source": [
        "X_train = scl.fit_transform(X_train)\n",
        "X_test = scl.transform(X_test)"
      ],
      "execution_count": null,
      "outputs": []
    },
    {
      "cell_type": "code",
      "metadata": {
        "id": "KSXx6WhKgm-k",
        "colab_type": "code",
        "colab": {
          "base_uri": "https://localhost:8080/",
          "height": 187
        },
        "outputId": "59781cbe-93df-4713-d1da-04f1242e97a5"
      },
      "source": [
        "X_train"
      ],
      "execution_count": null,
      "outputs": [
        {
          "output_type": "execute_result",
          "data": {
            "text/plain": [
              "array([[0.        , 1.        , 0.        , 0.        , 1.        ,\n",
              "        0.25122514, 1.        , 0.44465649, 1.        , 0.15917746],\n",
              "       [1.        , 0.        , 0.67993412, 1.        , 0.        ,\n",
              "        0.97117325, 0.        , 1.        , 0.13358962, 0.81797411],\n",
              "       [0.        , 1.        , 1.        , 1.        , 0.        ,\n",
              "        0.        , 0.95062271, 0.8148855 , 0.        , 1.        ],\n",
              "       [1.        , 0.        , 0.67993412, 1.        , 0.        ,\n",
              "        1.        , 0.42974359, 0.68129771, 0.91686689, 0.2604722 ],\n",
              "       [1.        , 0.        , 0.714521  , 0.        , 1.        ,\n",
              "        0.94739118, 0.38446886, 0.        , 0.85920231, 0.        ]])"
            ]
          },
          "metadata": {
            "tags": []
          },
          "execution_count": 89
        }
      ]
    },
    {
      "cell_type": "code",
      "metadata": {
        "id": "DdB5Gp_ZgyZa",
        "colab_type": "code",
        "colab": {}
      },
      "source": [
        "from tensorflow.keras.models import Sequential\n",
        "from tensorflow.keras.layers import Dense"
      ],
      "execution_count": null,
      "outputs": []
    },
    {
      "cell_type": "code",
      "metadata": {
        "id": "-5ioE4KzhHwF",
        "colab_type": "code",
        "colab": {}
      },
      "source": [
        "mdl = Sequential()"
      ],
      "execution_count": null,
      "outputs": []
    },
    {
      "cell_type": "code",
      "metadata": {
        "id": "oawo5ypbhiFq",
        "colab_type": "code",
        "colab": {
          "base_uri": "https://localhost:8080/",
          "height": 34
        },
        "outputId": "4c023f0a-b057-40c0-c778-9113c843400c"
      },
      "source": [
        "X_train.shape"
      ],
      "execution_count": null,
      "outputs": [
        {
          "output_type": "execute_result",
          "data": {
            "text/plain": [
              "(5, 10)"
            ]
          },
          "metadata": {
            "tags": []
          },
          "execution_count": 90
        }
      ]
    },
    {
      "cell_type": "code",
      "metadata": {
        "id": "BzN7ARdShQoS",
        "colab_type": "code",
        "colab": {}
      },
      "source": [
        "mdl.add(Dense(10,activation='relu'))\n",
        "mdl.add(Dense(5,activation='relu'))\n",
        "mdl.add(Dense(1))\n",
        "mdl.compile(optimizer='adam',loss='mse')"
      ],
      "execution_count": null,
      "outputs": []
    },
    {
      "cell_type": "code",
      "metadata": {
        "id": "dnL7X3YCh_G1",
        "colab_type": "code",
        "colab": {
          "base_uri": "https://localhost:8080/",
          "height": 272
        },
        "outputId": "aaa77d01-6d94-4b98-aece-60833525baf1"
      },
      "source": [
        "mdl.fit(x=X_train,y=Y_train,validation_data=(X_test,Y_test),epochs=7)"
      ],
      "execution_count": null,
      "outputs": [
        {
          "output_type": "stream",
          "text": [
            "Epoch 1/7\n",
            "1/1 [==============================] - 0s 132ms/step - loss: 482536.8438 - val_loss: 455018.5938\n",
            "Epoch 2/7\n",
            "1/1 [==============================] - 0s 21ms/step - loss: 482525.0000 - val_loss: 455006.5312\n",
            "Epoch 3/7\n",
            "1/1 [==============================] - 0s 20ms/step - loss: 482513.1562 - val_loss: 454994.3438\n",
            "Epoch 4/7\n",
            "1/1 [==============================] - 0s 18ms/step - loss: 482501.0938 - val_loss: 454981.9062\n",
            "Epoch 5/7\n",
            "1/1 [==============================] - 0s 18ms/step - loss: 482488.9062 - val_loss: 454969.4062\n",
            "Epoch 6/7\n",
            "1/1 [==============================] - 0s 20ms/step - loss: 482476.5625 - val_loss: 454956.7188\n",
            "Epoch 7/7\n",
            "1/1 [==============================] - 0s 20ms/step - loss: 482463.9062 - val_loss: 454943.7812\n"
          ],
          "name": "stdout"
        },
        {
          "output_type": "execute_result",
          "data": {
            "text/plain": [
              "<tensorflow.python.keras.callbacks.History at 0x7fe767f7a588>"
            ]
          },
          "metadata": {
            "tags": []
          },
          "execution_count": 92
        }
      ]
    },
    {
      "cell_type": "code",
      "metadata": {
        "id": "SQpkXX1abetd",
        "colab_type": "code",
        "colab": {}
      },
      "source": [
        "losses = pd.DataFrame(mdl.history.history)"
      ],
      "execution_count": null,
      "outputs": []
    },
    {
      "cell_type": "code",
      "metadata": {
        "id": "0byrdQMDc15i",
        "colab_type": "code",
        "colab": {
          "base_uri": "https://localhost:8080/",
          "height": 282
        },
        "outputId": "a907adb0-98b2-49ae-e4ae-86ab285e457e"
      },
      "source": [
        "losses.plot()"
      ],
      "execution_count": null,
      "outputs": [
        {
          "output_type": "execute_result",
          "data": {
            "text/plain": [
              "<matplotlib.axes._subplots.AxesSubplot at 0x7fe767ec22b0>"
            ]
          },
          "metadata": {
            "tags": []
          },
          "execution_count": 94
        },
        {
          "output_type": "display_data",
          "data": {
            "image/png": "[encoded data removed]",
            "text/plain": [
              "<Figure size 432x288 with 1 Axes>"
            ]
          },
          "metadata": {
            "tags": [],
            "needs_background": "light"
          }
        }
      ]
    },
    {
      "cell_type": "code",
      "metadata": {
        "id": "x2WFvdAbj1zK",
        "colab_type": "code",
        "colab": {
          "base_uri": "https://localhost:8080/",
          "height": 266
        },
        "outputId": "4a573b78-492b-46d8-ae23-f2f8bcfeaa8c"
      },
      "source": [
        "pd.DataFrame(mdl.history.history)"
      ],
      "execution_count": null,
      "outputs": [
        {
          "output_type": "execute_result",
          "data": {
            "text/html": [
              "<div>\n",
              "<style scoped>\n",
              "    .dataframe tbody tr th:only-of-type {\n",
              "        vertical-align: middle;\n",
              "    }\n",
              "\n",
              "    .dataframe tbody tr th {\n",
              "        vertical-align: top;\n",
              "    }\n",
              "\n",
              "    .dataframe thead th {\n",
              "        text-align: right;\n",
              "    }\n",
              "</style>\n",
              "<table border=\"1\" class=\"dataframe\">\n",
              "  <thead>\n",
              "    <tr style=\"text-align: right;\">\n",
              "      <th></th>\n",
              "      <th>loss</th>\n",
              "      <th>val_loss</th>\n",
              "    </tr>\n",
              "  </thead>\n",
              "  <tbody>\n",
              "    <tr>\n",
              "      <th>0</th>\n",
              "      <td>482536.84375</td>\n",
              "      <td>455018.59375</td>\n",
              "    </tr>\n",
              "    <tr>\n",
              "      <th>1</th>\n",
              "      <td>482525.00000</td>\n",
              "      <td>455006.53125</td>\n",
              "    </tr>\n",
              "    <tr>\n",
              "      <th>2</th>\n",
              "      <td>482513.15625</td>\n",
              "      <td>454994.34375</td>\n",
              "    </tr>\n",
              "    <tr>\n",
              "      <th>3</th>\n",
              "      <td>482501.09375</td>\n",
              "      <td>454981.90625</td>\n",
              "    </tr>\n",
              "    <tr>\n",
              "      <th>4</th>\n",
              "      <td>482488.90625</td>\n",
              "      <td>454969.40625</td>\n",
              "    </tr>\n",
              "    <tr>\n",
              "      <th>5</th>\n",
              "      <td>482476.56250</td>\n",
              "      <td>454956.71875</td>\n",
              "    </tr>\n",
              "    <tr>\n",
              "      <th>6</th>\n",
              "      <td>482463.90625</td>\n",
              "      <td>454943.78125</td>\n",
              "    </tr>\n",
              "  </tbody>\n",
              "</table>\n",
              "</div>"
            ],
            "text/plain": [
              "           loss      val_loss\n",
              "0  482536.84375  455018.59375\n",
              "1  482525.00000  455006.53125\n",
              "2  482513.15625  454994.34375\n",
              "3  482501.09375  454981.90625\n",
              "4  482488.90625  454969.40625\n",
              "5  482476.56250  454956.71875\n",
              "6  482463.90625  454943.78125"
            ]
          },
          "metadata": {
            "tags": []
          },
          "execution_count": 95
        }
      ]
    },
    {
      "cell_type": "code",
      "metadata": {
        "id": "t35eWDl-kaNR",
        "colab_type": "code",
        "colab": {}
      },
      "source": [
        "from sklearn.metrics import mean_absolute_error,mean_squared_error,explained_variance_score"
      ],
      "execution_count": null,
      "outputs": []
    },
    {
      "cell_type": "code",
      "metadata": {
        "id": "QF1d0clrguF5",
        "colab_type": "code",
        "colab": {}
      },
      "source": [
        "prdct = mdl.predict(X_test)"
      ],
      "execution_count": null,
      "outputs": []
    },
    {
      "cell_type": "code",
      "metadata": {
        "id": "wl2htIbYgyVk",
        "colab_type": "code",
        "colab": {
          "base_uri": "https://localhost:8080/",
          "height": 68
        },
        "outputId": "176e093e-9143-47f1-ffac-336e3837c7e6"
      },
      "source": [
        "prdct"
      ],
      "execution_count": null,
      "outputs": [
        {
          "output_type": "execute_result",
          "data": {
            "text/plain": [
              "array([[0.06109975],\n",
              "       [0.06503353],\n",
              "       [0.06088319]], dtype=float32)"
            ]
          },
          "metadata": {
            "tags": []
          },
          "execution_count": 98
        }
      ]
    },
    {
      "cell_type": "code",
      "metadata": {
        "id": "I5deXDmcg0ir",
        "colab_type": "code",
        "colab": {
          "base_uri": "https://localhost:8080/",
          "height": 34
        },
        "outputId": "85cc3281-d5ab-4da6-cdfc-b56ad0f1e9a9"
      },
      "source": [
        "np.sqrt(mean_squared_error(Y_test,prdct))"
      ],
      "execution_count": null,
      "outputs": [
        {
          "output_type": "execute_result",
          "data": {
            "text/plain": [
              "674.4952103211353"
            ]
          },
          "metadata": {
            "tags": []
          },
          "execution_count": 99
        }
      ]
    },
    {
      "cell_type": "code",
      "metadata": {
        "id": "B9XPXHfbhYPc",
        "colab_type": "code",
        "colab": {
          "base_uri": "https://localhost:8080/",
          "height": 34
        },
        "outputId": "94d67ca4-bc5f-439b-b81c-dc8e0afc4601"
      },
      "source": [
        "mean_absolute_error(Y_test,prdct)"
      ],
      "execution_count": null,
      "outputs": [
        {
          "output_type": "execute_result",
          "data": {
            "text/plain": [
              "674.0809945117434"
            ]
          },
          "metadata": {
            "tags": []
          },
          "execution_count": 100
        }
      ]
    },
    {
      "cell_type": "code",
      "metadata": {
        "id": "oIPlAsfRhglD",
        "colab_type": "code",
        "colab": {
          "base_uri": "https://localhost:8080/",
          "height": 170
        },
        "outputId": "df058232-6e2b-416f-d073-4dbaad826131"
      },
      "source": [
        "df['TE'].describe()"
      ],
      "execution_count": null,
      "outputs": [
        {
          "output_type": "execute_result",
          "data": {
            "text/plain": [
              "count      8.000000\n",
              "mean     686.736250\n",
              "std       26.459843\n",
              "min      643.710000\n",
              "25%      672.445000\n",
              "50%      691.855000\n",
              "75%      703.532500\n",
              "max      721.020000\n",
              "Name: TE, dtype: float64"
            ]
          },
          "metadata": {
            "tags": []
          },
          "execution_count": 101
        }
      ]
    },
    {
      "cell_type": "code",
      "metadata": {
        "id": "dJ61u0JXhpFL",
        "colab_type": "code",
        "colab": {
          "base_uri": "https://localhost:8080/",
          "height": 34
        },
        "outputId": "a9f2a89a-5a92-45d2-edca-bef3c7d66a10"
      },
      "source": [
        "explained_variance_score(Y_test,prdct)"
      ],
      "execution_count": null,
      "outputs": [
        {
          "output_type": "execute_result",
          "data": {
            "text/plain": [
              "2.3101222189181314e-05"
            ]
          },
          "metadata": {
            "tags": []
          },
          "execution_count": 104
        }
      ]
    },
    {
      "cell_type": "code",
      "metadata": {
        "id": "UytGDYuBiMHc",
        "colab_type": "code",
        "colab": {
          "base_uri": "https://localhost:8080/",
          "height": 282
        },
        "outputId": "88096b7e-3dd8-4619-c09f-a06bb080378c"
      },
      "source": [
        "plt.scatter(Y_test,prdct)"
      ],
      "execution_count": null,
      "outputs": [
        {
          "output_type": "execute_result",
          "data": {
            "text/plain": [
              "<matplotlib.collections.PathCollection at 0x7fe75de24668>"
            ]
          },
          "metadata": {
            "tags": []
          },
          "execution_count": 105
        },
        {
          "output_type": "display_data",
          "data": {
            "image/png": "[encoded data removed]",
            "text/plain": [
              "<Figure size 432x288 with 1 Axes>"
            ]
          },
          "metadata": {
            "tags": [],
            "needs_background": "light"
          }
        }
      ]
    },
    {
      "cell_type": "code",
      "metadata": {
        "id": "KMFuoS4AiwdO",
        "colab_type": "code",
        "colab": {}
      },
      "source": [
        "sm = df.drop('TE',axis=1).iloc[0]"
      ],
      "execution_count": null,
      "outputs": []
    },
    {
      "cell_type": "code",
      "metadata": {
        "id": "iCmdEupzvg01",
        "colab_type": "code",
        "colab": {
          "base_uri": "https://localhost:8080/",
          "height": 204
        },
        "outputId": "c4b9b32a-341c-42a6-c199-d84eb9ed8f13"
      },
      "source": [
        "sm"
      ],
      "execution_count": null,
      "outputs": [
        {
          "output_type": "execute_result",
          "data": {
            "text/plain": [
              "Hostel(0 or 1)             0.00\n",
              "Room(0 or 1)               1.00\n",
              "Living Expense           326.05\n",
              "Veg (0 or 1)               1.00\n",
              "Non Veg(0 or 1)            0.00\n",
              "Food Expense              47.58\n",
              "Transport Expense         97.13\n",
              "Personal Expense          23.69\n",
              "Entertainment Expense     48.57\n",
              "HealthCare Expense       100.69\n",
              "Name: 0, dtype: float64"
            ]
          },
          "metadata": {
            "tags": []
          },
          "execution_count": 127
        }
      ]
    },
    {
      "cell_type": "code",
      "metadata": {
        "id": "joNf7CK-vhed",
        "colab_type": "code",
        "colab": {}
      },
      "source": [
        "sm_upd = scl.transform(sm.values.reshape(-1,10))"
      ],
      "execution_count": null,
      "outputs": []
    },
    {
      "cell_type": "code",
      "metadata": {
        "id": "vJ_QPIQfv7j0",
        "colab_type": "code",
        "colab": {}
      },
      "source": [
        "rst = mdl.predict(sm_upd)*(10545.905)"
      ],
      "execution_count": null,
      "outputs": []
    },
    {
      "cell_type": "code",
      "metadata": {
        "id": "sK6pMRk4v_En",
        "colab_type": "code",
        "colab": {
          "base_uri": "https://localhost:8080/",
          "height": 34
        },
        "outputId": "ca86a2d2-7342-416f-ccc0-1aacf8daa750"
      },
      "source": [
        "rst\n"
      ],
      "execution_count": null,
      "outputs": [
        {
          "output_type": "execute_result",
          "data": {
            "text/plain": [
              "array([[642.0681]], dtype=float32)"
            ]
          },
          "metadata": {
            "tags": []
          },
          "execution_count": 150
        }
      ]
    },
    {
      "cell_type": "code",
      "metadata": {
        "id": "uhAeRzKrvpZ7",
        "colab_type": "code",
        "colab": {}
      },
      "source": [
        "import json\n",
        "f_nl = {\"Estimation\" : str(rst) }\n",
        "f_nl = str(f_nl)\n",
        "rst = json.dumps(f_nl)"
      ],
      "execution_count": null,
      "outputs": []
    },
    {
      "cell_type": "code",
      "metadata": {
        "id": "QiDiMuE9-0ZW",
        "colab_type": "code",
        "colab": {
          "base_uri": "https://localhost:8080/",
          "height": 35
        },
        "outputId": "8a3cddf9-67e0-4e9c-ba9a-96e714aeecb6"
      },
      "source": [
        "rst"
      ],
      "execution_count": null,
      "outputs": [
        {
          "output_type": "execute_result",
          "data": {
            "application/vnd.google.colaboratory.intrinsic+json": {
              "type": "string"
            },
            "text/plain": [
              "'\"{\\'Estimation\\': \\'[[642.0681]]\\'}\"'"
            ]
          },
          "metadata": {
            "tags": []
          },
          "execution_count": 154
        }
      ]
    }
  ]
}